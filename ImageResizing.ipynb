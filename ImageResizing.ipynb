{
  "nbformat": 4,
  "nbformat_minor": 0,
  "metadata": {
    "colab": {
      "provenance": [],
      "authorship_tag": "ABX9TyOA1ShlaMOZ0/MfT7K1fTvc",
      "include_colab_link": true
    },
    "kernelspec": {
      "name": "python3",
      "display_name": "Python 3"
    },
    "language_info": {
      "name": "python"
    }
  },
  "cells": [
    {
      "cell_type": "markdown",
      "metadata": {
        "id": "view-in-github",
        "colab_type": "text"
      },
      "source": [
        "<a href=\"https://colab.research.google.com/github/DavidSaruni/KSL-Classification/blob/main/ImageResizing.ipynb\" target=\"_parent\"><img src=\"https://colab.research.google.com/assets/colab-badge.svg\" alt=\"Open In Colab\"/></a>"
      ]
    },
    {
      "cell_type": "code",
      "execution_count": 1,
      "metadata": {
        "colab": {
          "base_uri": "https://localhost:8080/"
        },
        "id": "ig_jygQRFcot",
        "outputId": "ae65753d-e48d-4413-8c18-90ff511ffd2e"
      },
      "outputs": [
        {
          "output_type": "stream",
          "name": "stdout",
          "text": [
            "Mounted at /content/gdrive\n"
          ]
        }
      ],
      "source": [
        "from google.colab import drive\n",
        "\n",
        "drive.mount('/content/gdrive')"
      ]
    },
    {
      "cell_type": "code",
      "source": [
        "import os\n",
        "from multiprocessing import Pool, cpu_count\n",
        "from PIL import Image\n",
        "import shutil\n",
        "\n",
        "try:\n",
        "  \n",
        "    os.mkdir(\"ModImages\")\n",
        "except:\n",
        "    pass\n",
        "\n",
        "def reduce_size(img_path):\n",
        "    basewidth = 720\n",
        "    # open where your image is stored \n",
        "    img = Image.open(\"/content/gdrive/MyDrive/Images/Images/\"+img_path)\n",
        "    wpercent = (basewidth / float(img.size[0]))\n",
        "    hsize = int((float(img.size[1])*float(wpercent)))\n",
        "    img = img.resize((basewidth, hsize), Image.ANTIALIAS)\n",
        "    img.save(\"ModImages/\"+img_path)"
      ],
      "metadata": {
        "id": "NqJdbN3wFhJ0"
      },
      "execution_count": 4,
      "outputs": []
    },
    {
      "cell_type": "code",
      "source": [
        "%%time\n",
        "## takes about 9 minutes to run\n",
        "with Pool(cpu_count()) as p:\n",
        "    p.map(reduce_size, os.listdir(\"/content/gdrive/MyDrive/Images/Images\"))"
      ],
      "metadata": {
        "colab": {
          "base_uri": "https://localhost:8080/"
        },
        "id": "gvX3vPOvJTvj",
        "outputId": "07992968-3b1b-4de0-adc8-57d1fc7d935d"
      },
      "execution_count": 5,
      "outputs": [
        {
          "output_type": "stream",
          "name": "stdout",
          "text": [
            "CPU times: user 3.04 s, sys: 572 ms, total: 3.61 s\n",
            "Wall time: 10min 1s\n"
          ]
        }
      ]
    },
    {
      "cell_type": "code",
      "source": [
        "# store the modified Images where the original folder is in your drive\n",
        "\n",
        "!zip -r ModImages.zip /content/ModImages -q\n",
        "!cp ModImages.zip /content/gdrive/MyDrive/Images/Images"
      ],
      "metadata": {
        "id": "rTvXFz8qTaZy"
      },
      "execution_count": 7,
      "outputs": []
    }
  ]
}